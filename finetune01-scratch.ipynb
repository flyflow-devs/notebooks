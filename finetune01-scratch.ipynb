{
 "cells": [
  {
   "cell_type": "markdown",
   "source": [
    "# Finetuning Experiments 1"
   ],
   "metadata": {
    "collapsed": false
   },
   "id": "34d72195f70c0645"
  },
  {
   "cell_type": "code",
   "execution_count": null,
   "outputs": [],
   "source": [
    "from dotenv import load_dotenv\n",
    "\n",
    "load_dotenv()\n",
    "\n"
   ],
   "metadata": {
    "collapsed": false
   },
   "id": "43a6d48b6d1f9f74"
  },
  {
   "cell_type": "code",
   "execution_count": null,
   "outputs": [],
   "source": [
    "import os\n"
   ],
   "metadata": {
    "collapsed": false
   },
   "id": "758bc3dd0a762289"
  },
  {
   "cell_type": "code",
   "execution_count": null,
   "outputs": [],
   "source": [
    "!pip3 install openai\n",
    "!pip3 install psycopg2\n"
   ],
   "metadata": {
    "collapsed": false
   },
   "id": "7beb2ce702766ff4"
  },
  {
   "cell_type": "markdown",
   "source": [
    "## Test using anyscale "
   ],
   "metadata": {
    "collapsed": false
   },
   "id": "7910c049e2dfbc46"
  },
  {
   "cell_type": "code",
   "execution_count": null,
   "outputs": [],
   "source": [
    "import openai\n",
    "\n",
    "query = \"Write a program to load data from S3 with Ray and train using PyTorch.\"\n",
    "\n",
    "client = openai.OpenAI(\n",
    "    base_url = \"https://api.endpoints.anyscale.com/v1\",\n",
    "    api_key = os.getenv(\"API_KEY\")\n",
    ")\n",
    "# Note: not all arguments are currently supported and will be ignored by the backend.\n",
    "chat_completion = client.chat.completions.create(\n",
    "    model=\"mistralai/Mixtral-8x7B-Instruct-v0.1:carl:7umGKyN\",\n",
    "    messages=[{\"role\": \"system\", \"content\": \"You are an excellent technical product manager that loves reading code and describing it to non-technical people.\\n\\nYour task is to write a spec for a component given its implementation.\\n\\nYou will also be provided with a original spec that resulted in the implementation that you are considering. This should be used to influence language and style of the spec you provide.\\n\\nFor instance, you might be given a component that implements a button, and you will be provided with a spec that describes how the button was used, its layout in a original page or more complex matters.\\n\\nYour goal is to write a spec that describes the component in a way that is consistent with the original spec.\\n\\nRules:\\n- Your spec should be written in a way that is easy to understand by non-technical people, though it should match the tone, language, and style of the original spec. If that original spec is technical, you may break this rule\\n- The spec must also match the same language that is used in the original spec\\n- You must respond only with the spec, and nothing else\\n- You must not refer to the code directly, but instead refer to the features and styles that you would propose\\n- You can be detailed and specific, but keep the spec simple and terse. Do not use generalities, do not use abstract language\\n- Do not mention the name of the component\\n- Do NOT describe the nature or essence of the component (e.g. \\\"this is a visually appealing component\\\"). Instead be specific about the features and styles that describe this component\\n- Do NOT summarize the spec at the beginning or end\\n- Do NOT reference specific tailwind classes, css, or other implementation details\\n- Keep it short and to the point\\n- You should never generate more than 50 words\\n\"},\n",
    "              {\"role\": \"user\", \"content\": \"\\n    Can you write a spec for this component given its implementation?\\n\\nComponent implementation:\\n###\\n\\u003cimg\\n                    src={`dashboard-thumbnail${index + startIndex}.jpg`}\\n                    alt={`Digital signage thumbnail for ${client.id}`}\\n                    className=\\\"w-full h-[60px] object-cover\\\"\\n                  /\\u003e\\n###\\n\\n\"}],\n",
    "    temperature=0.1,\n",
    "    stream=True\n",
    ")\n",
    "for message in chat_completion:\n",
    "    print(message.choices[0].delta.content, end=\"\", flush=True)"
   ],
   "metadata": {
    "collapsed": false
   },
   "id": "2bb14bf10b80b142"
  },
  {
   "cell_type": "code",
   "execution_count": null,
   "outputs": [],
   "source": [
    "import os\n",
    "from dotenv import load_dotenv\n",
    "import psycopg2\n",
    "\n",
    "# Load environment variables from .env file\n",
    "load_dotenv()\n",
    "\n",
    "# Retrieve the database URL from the environment variable\n",
    "db_url = os.getenv(\"DB_URL\")\n",
    "\n",
    "# Establish a connection to the PostgreSQL database\n",
    "conn = psycopg2.connect(db_url)\n",
    "\n",
    "try:\n",
    "    # Create a cursor object to execute queries\n",
    "    cur = conn.cursor()\n",
    "\n",
    "    # Define the query to select records\n",
    "    query = \"SELECT * FROM query_records WHERE api_key = '53cbdc5f-0ea9-4f6d-b466-d2127241f77c'\"\n",
    "\n",
    "    # Execute the query\n",
    "    cur.execute(query)\n",
    "\n",
    "    # Fetch all the records and store them in a variable\n",
    "    records = cur.fetchall()\n",
    "\n",
    "    # Print the number of records retrieved\n",
    "    print(f\"Retrieved {len(records)} records from the database.\")\n",
    "\n",
    "    # You can now work with the 'records' variable, which contains all the retrieved records\n",
    "\n",
    "finally:\n",
    "    # Close the cursor and the database connection\n",
    "    cur.close()\n",
    "    conn.close()\n",
    "    \n",
    "print(records[0])"
   ],
   "metadata": {
    "collapsed": false
   },
   "id": "f038224c9a6f6d07"
  },
  {
   "cell_type": "code",
   "execution_count": null,
   "outputs": [],
   "source": [
    "import json\n",
    "import re\n",
    "\n",
    "class CustomDecoder(json.JSONDecoder):\n",
    "    def decode(self, s):\n",
    "        result = super().decode(s)\n",
    "        return self._decode(result)\n",
    "\n",
    "    def _decode(self, o):\n",
    "        if isinstance(o, str):\n",
    "            o = o.replace('\\\\_', '_')\n",
    "        elif isinstance(o, dict):\n",
    "            for k, v in o.items():\n",
    "                o[k] = self._decode(v)\n",
    "        elif isinstance(o, list):\n",
    "            for i, v in enumerate(o):\n",
    "                o[i] = self._decode(v)\n",
    "        return o\n",
    "\n",
    "def parse_records(records):\n",
    "    formatted_records = []\n",
    "\n",
    "    for record in records:\n",
    "        try:\n",
    "            data = json.loads(record[6], cls=CustomDecoder)\n",
    "            messages = data[\"messages\"]\n",
    "\n",
    "            system_content = messages[0][\"content\"].strip()\n",
    "            user_content = messages[1][\"content\"].strip()\n",
    "\n",
    "            # Extract the assistant's response from the data field\n",
    "            assistant_content = \"\"\n",
    "            data_field = record[7]\n",
    "            match = re.search(r\"data: (.*?)\\n\\ndata: \\[DONE\\]\", data_field, re.DOTALL)\n",
    "            assistant_content_parsed = \"\"\n",
    "            if match:\n",
    "                assistant_content = match.group(1).strip().replace(\"data: \", \"\")\n",
    "                for line in assistant_content.split(\"\\n\"):\n",
    "                    try:\n",
    "                        json_line = json.loads(line, cls=CustomDecoder)\n",
    "                        if 'delta' in json_line['choices'][0] and 'content' in json_line['choices'][0]['delta']:\n",
    "                            assistant_content_parsed += json_line['choices'][0]['delta']['content']\n",
    "                    except (KeyError, IndexError, json.JSONDecodeError):\n",
    "                        continue\n",
    "\n",
    "            # Skip the record if any of the content fields are empty\n",
    "            if not system_content or not user_content or not assistant_content_parsed:\n",
    "                continue\n",
    "\n",
    "            formatted_record = {\n",
    "                \"messages\": [\n",
    "                    {\"role\": \"system\", \"content\": system_content},\n",
    "                    {\"role\": \"user\", \"content\": user_content},\n",
    "                    {\"role\": \"assistant\", \"content\": assistant_content_parsed}\n",
    "                ]\n",
    "            }\n",
    "            formatted_records.append(json.dumps(formatted_record))\n",
    "        except (KeyError, IndexError, json.JSONDecodeError) as e:\n",
    "            # Skip the record if it doesn't fit the expected format\n",
    "            print(e)\n",
    "            continue\n",
    "\n",
    "    return formatted_records\n",
    "\n",
    "# Assuming the records are stored in a list called 'records'\n",
    "formatted_records = parse_records(records)\n",
    "\n",
    "with open(\"create_finetune_data.jsonl\", \"w\") as file:\n",
    "    file.write(\"\\n\".join(formatted_records))"
   ],
   "metadata": {
    "collapsed": false
   },
   "id": "734386bb331e499c"
  },
  {
   "cell_type": "code",
   "execution_count": null,
   "outputs": [],
   "source": [
    "import openai\n",
    "\n",
    "client = openai.OpenAI(\n",
    "    base_url = \"https://api.endpoints.anyscale.com/v1\",\n",
    "    api_key = os.getenv(\"API_KEY\")\n",
    ")\n",
    "\n",
    "file = client.files.create(\n",
    "    file=open('create_finetune_data.jsonl', \"rb\"),\n",
    "    purpose=\"fine-tune\",\n",
    "    # user_provided_filename='create_finetune_data.jsonl',\n",
    ")"
   ],
   "metadata": {
    "collapsed": false
   },
   "id": "7342cf41dff38035"
  },
  {
   "cell_type": "code",
   "execution_count": null,
   "outputs": [],
   "source": [
    "print(file)"
   ],
   "metadata": {
    "collapsed": false
   },
   "id": "8a3cb1589e0a900e"
  },
  {
   "cell_type": "code",
   "execution_count": null,
   "outputs": [],
   "source": [
    "client.fine_tuning.jobs.create(\n",
    "    model=\"mistralai/Mixtral-8x7B-Instruct-v0.1\",\n",
    "    training_file=\"file_4am6fv7lzbh52ca5vuv65p58dl\",\n",
    ")"
   ],
   "metadata": {
    "collapsed": false
   },
   "id": "4c3c135f0062a2e6"
  },
  {
   "cell_type": "code",
   "execution_count": null,
   "outputs": [],
   "source": [],
   "metadata": {
    "collapsed": false
   },
   "id": "843a345d732b8743"
  }
 ],
 "metadata": {
  "kernelspec": {
   "display_name": "Python 3",
   "language": "python",
   "name": "python3"
  },
  "language_info": {
   "codemirror_mode": {
    "name": "ipython",
    "version": 2
   },
   "file_extension": ".py",
   "mimetype": "text/x-python",
   "name": "python",
   "nbconvert_exporter": "python",
   "pygments_lexer": "ipython2",
   "version": "2.7.6"
  }
 },
 "nbformat": 4,
 "nbformat_minor": 5
}
